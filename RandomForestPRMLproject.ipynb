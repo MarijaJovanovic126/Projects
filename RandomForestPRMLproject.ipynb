{
 "cells": [
  {
   "cell_type": "code",
   "execution_count": 1,
   "metadata": {},
   "outputs": [],
   "source": [
    "import os\n",
    "import math\n",
    "import numpy as np\n",
    "import seaborn as sns\n",
    "import pandas as pd\n",
    "from matplotlib import pyplot as plt\n",
    "from matplotlib import style\n",
    "from pprint import pprint\n",
    "import datetime\n",
    "from sklearn.model_selection import train_test_split\n",
    "from sklearn.ensemble import RandomForestRegressor\n",
    "from sklearn.tree import DecisionTreeRegressor\n",
    "from sklearn.model_selection import cross_validate\n",
    "from sklearn.metrics import accuracy_score\n",
    "from sklearn import metrics\n",
    "import seaborn as sns\n",
    "import scipy.stats as sps\n",
    "import statistics\n",
    "import random"
   ]
  },
  {
   "cell_type": "code",
   "execution_count": 2,
   "metadata": {},
   "outputs": [],
   "source": [
    "os.chdir(\"C:\\\\Users\\\\Korisnik\\\\Desktop\\\\Pattern Recognition and Machine Learning\")\n",
    "att_names = ['Day','Average Temperature','Maximum temperature','Minimum temperature','Atmospheric pressure at sea level','Average relative humidity','Total rainfall and / or snowmelt','Average visibility','Average wind speed','Maximum sustained wind speed','Output']      \n",
    "data = pd.read_excel(\"Dataset sa generatorom.xlsx\", header=0, usecols=(0,1,2,3,4,5,6,7,8,9,11), na_values = '-')"
   ]
  },
  {
   "cell_type": "code",
   "execution_count": 3,
   "metadata": {},
   "outputs": [
    {
     "data": {
      "text/html": [
       "<div>\n",
       "<style scoped>\n",
       "    .dataframe tbody tr th:only-of-type {\n",
       "        vertical-align: middle;\n",
       "    }\n",
       "\n",
       "    .dataframe tbody tr th {\n",
       "        vertical-align: top;\n",
       "    }\n",
       "\n",
       "    .dataframe thead th {\n",
       "        text-align: right;\n",
       "    }\n",
       "</style>\n",
       "<table border=\"1\" class=\"dataframe\">\n",
       "  <thead>\n",
       "    <tr style=\"text-align: right;\">\n",
       "      <th></th>\n",
       "      <th>Day</th>\n",
       "      <th>Average Temperature</th>\n",
       "      <th>Maximum temperature</th>\n",
       "      <th>Minimum temperature</th>\n",
       "      <th>Atmospheric pressure at sea level</th>\n",
       "      <th>Average relative humidity</th>\n",
       "      <th>Total rainfall and / or snowmelt</th>\n",
       "      <th>Average visibility</th>\n",
       "      <th>Average wind speed</th>\n",
       "      <th>Maximum sustained wind speed</th>\n",
       "      <th>Output</th>\n",
       "    </tr>\n",
       "  </thead>\n",
       "  <tbody>\n",
       "    <tr>\n",
       "      <th>0</th>\n",
       "      <td>2013-01-01</td>\n",
       "      <td>-2.8</td>\n",
       "      <td>-0.9</td>\n",
       "      <td>-4.0</td>\n",
       "      <td>1021.1</td>\n",
       "      <td>98.0</td>\n",
       "      <td>0.0</td>\n",
       "      <td>0.5</td>\n",
       "      <td>5.0</td>\n",
       "      <td>10.7</td>\n",
       "      <td>0.236121</td>\n",
       "    </tr>\n",
       "    <tr>\n",
       "      <th>1</th>\n",
       "      <td>2013-01-02</td>\n",
       "      <td>-1.2</td>\n",
       "      <td>5.0</td>\n",
       "      <td>-5.0</td>\n",
       "      <td>1024.2</td>\n",
       "      <td>95.0</td>\n",
       "      <td>0.0</td>\n",
       "      <td>2.6</td>\n",
       "      <td>3.1</td>\n",
       "      <td>7.2</td>\n",
       "      <td>1.675782</td>\n",
       "    </tr>\n",
       "    <tr>\n",
       "      <th>2</th>\n",
       "      <td>2013-01-03</td>\n",
       "      <td>3.3</td>\n",
       "      <td>8.2</td>\n",
       "      <td>-0.2</td>\n",
       "      <td>1033.7</td>\n",
       "      <td>87.0</td>\n",
       "      <td>0.0</td>\n",
       "      <td>9.2</td>\n",
       "      <td>6.3</td>\n",
       "      <td>10.7</td>\n",
       "      <td>-4.666976</td>\n",
       "    </tr>\n",
       "    <tr>\n",
       "      <th>3</th>\n",
       "      <td>2013-01-04</td>\n",
       "      <td>6.7</td>\n",
       "      <td>11.4</td>\n",
       "      <td>2.5</td>\n",
       "      <td>1026.0</td>\n",
       "      <td>81.0</td>\n",
       "      <td>0.0</td>\n",
       "      <td>16.3</td>\n",
       "      <td>16.7</td>\n",
       "      <td>28.7</td>\n",
       "      <td>4.681663</td>\n",
       "    </tr>\n",
       "    <tr>\n",
       "      <th>4</th>\n",
       "      <td>2013-01-05</td>\n",
       "      <td>6.2</td>\n",
       "      <td>9.6</td>\n",
       "      <td>2.5</td>\n",
       "      <td>1017.5</td>\n",
       "      <td>91.0</td>\n",
       "      <td>3.3</td>\n",
       "      <td>16.3</td>\n",
       "      <td>16.1</td>\n",
       "      <td>25.2</td>\n",
       "      <td>-4.167753</td>\n",
       "    </tr>\n",
       "  </tbody>\n",
       "</table>\n",
       "</div>"
      ],
      "text/plain": [
       "         Day  Average Temperature  Maximum temperature  Minimum temperature  \\\n",
       "0 2013-01-01                 -2.8                 -0.9                 -4.0   \n",
       "1 2013-01-02                 -1.2                  5.0                 -5.0   \n",
       "2 2013-01-03                  3.3                  8.2                 -0.2   \n",
       "3 2013-01-04                  6.7                 11.4                  2.5   \n",
       "4 2013-01-05                  6.2                  9.6                  2.5   \n",
       "\n",
       "   Atmospheric pressure at sea level  Average relative humidity  \\\n",
       "0                             1021.1                       98.0   \n",
       "1                             1024.2                       95.0   \n",
       "2                             1033.7                       87.0   \n",
       "3                             1026.0                       81.0   \n",
       "4                             1017.5                       91.0   \n",
       "\n",
       "   Total rainfall and / or snowmelt  Average visibility  Average wind speed  \\\n",
       "0                               0.0                 0.5                 5.0   \n",
       "1                               0.0                 2.6                 3.1   \n",
       "2                               0.0                 9.2                 6.3   \n",
       "3                               0.0                16.3                16.7   \n",
       "4                               3.3                16.3                16.1   \n",
       "\n",
       "   Maximum sustained wind speed    Output  \n",
       "0                          10.7  0.236121  \n",
       "1                           7.2  1.675782  \n",
       "2                          10.7 -4.666976  \n",
       "3                          28.7  4.681663  \n",
       "4                          25.2 -4.167753  "
      ]
     },
     "execution_count": 3,
     "metadata": {},
     "output_type": "execute_result"
    }
   ],
   "source": [
    "data.head()"
   ]
  },
  {
   "cell_type": "code",
   "execution_count": 4,
   "metadata": {},
   "outputs": [],
   "source": [
    "data['Year']=[d.split('-')[0] for d in data.Day.astype(str)]\n",
    "data['Month']=[d.split('-')[1] for d in data.Day.astype(str)]\n",
    "data['Day']=[d.split('-')[2] for d in data.Day.astype(str)]\n",
    "\n",
    "data['Year']=data.Year.astype(int)\n",
    "data['Day']=data.Day.astype(int)\n",
    "data['Month']=data.Month.astype(int)"
   ]
  },
  {
   "cell_type": "code",
   "execution_count": 5,
   "metadata": {},
   "outputs": [
    {
     "name": "stderr",
     "output_type": "stream",
     "text": [
      "C:\\Users\\Korisnik\\Anaconda3\\lib\\site-packages\\ipykernel_launcher.py:1: FutureWarning: '.reindex_axis' is deprecated and will be removed in a future version. Use '.reindex' instead.\n",
      "  \"\"\"Entry point for launching an IPython kernel.\n"
     ]
    }
   ],
   "source": [
    "data = data.reindex_axis(['Day','Month','Year','Average Temperature','Maximum temperature','Minimum temperature','Atmospheric pressure at sea level','Average relative humidity','Average visibility','Average wind speed','Maximum sustained wind speed','Total rainfall and / or snowmelt','Output'], axis=1)"
   ]
  },
  {
   "cell_type": "code",
   "execution_count": 6,
   "metadata": {},
   "outputs": [
    {
     "data": {
      "text/html": [
       "<div>\n",
       "<style scoped>\n",
       "    .dataframe tbody tr th:only-of-type {\n",
       "        vertical-align: middle;\n",
       "    }\n",
       "\n",
       "    .dataframe tbody tr th {\n",
       "        vertical-align: top;\n",
       "    }\n",
       "\n",
       "    .dataframe thead th {\n",
       "        text-align: right;\n",
       "    }\n",
       "</style>\n",
       "<table border=\"1\" class=\"dataframe\">\n",
       "  <thead>\n",
       "    <tr style=\"text-align: right;\">\n",
       "      <th></th>\n",
       "      <th>Day</th>\n",
       "      <th>Month</th>\n",
       "      <th>Year</th>\n",
       "      <th>Average Temperature</th>\n",
       "      <th>Maximum temperature</th>\n",
       "      <th>Minimum temperature</th>\n",
       "      <th>Atmospheric pressure at sea level</th>\n",
       "      <th>Average relative humidity</th>\n",
       "      <th>Average visibility</th>\n",
       "      <th>Average wind speed</th>\n",
       "      <th>Maximum sustained wind speed</th>\n",
       "      <th>Total rainfall and / or snowmelt</th>\n",
       "      <th>Output</th>\n",
       "    </tr>\n",
       "  </thead>\n",
       "  <tbody>\n",
       "    <tr>\n",
       "      <th>0</th>\n",
       "      <td>1</td>\n",
       "      <td>1</td>\n",
       "      <td>2013</td>\n",
       "      <td>-2.8</td>\n",
       "      <td>-0.9</td>\n",
       "      <td>-4.0</td>\n",
       "      <td>1021.1</td>\n",
       "      <td>98.0</td>\n",
       "      <td>0.5</td>\n",
       "      <td>5.0</td>\n",
       "      <td>10.7</td>\n",
       "      <td>0.0</td>\n",
       "      <td>0.236121</td>\n",
       "    </tr>\n",
       "    <tr>\n",
       "      <th>1</th>\n",
       "      <td>2</td>\n",
       "      <td>1</td>\n",
       "      <td>2013</td>\n",
       "      <td>-1.2</td>\n",
       "      <td>5.0</td>\n",
       "      <td>-5.0</td>\n",
       "      <td>1024.2</td>\n",
       "      <td>95.0</td>\n",
       "      <td>2.6</td>\n",
       "      <td>3.1</td>\n",
       "      <td>7.2</td>\n",
       "      <td>0.0</td>\n",
       "      <td>1.675782</td>\n",
       "    </tr>\n",
       "    <tr>\n",
       "      <th>2</th>\n",
       "      <td>3</td>\n",
       "      <td>1</td>\n",
       "      <td>2013</td>\n",
       "      <td>3.3</td>\n",
       "      <td>8.2</td>\n",
       "      <td>-0.2</td>\n",
       "      <td>1033.7</td>\n",
       "      <td>87.0</td>\n",
       "      <td>9.2</td>\n",
       "      <td>6.3</td>\n",
       "      <td>10.7</td>\n",
       "      <td>0.0</td>\n",
       "      <td>-4.666976</td>\n",
       "    </tr>\n",
       "    <tr>\n",
       "      <th>3</th>\n",
       "      <td>4</td>\n",
       "      <td>1</td>\n",
       "      <td>2013</td>\n",
       "      <td>6.7</td>\n",
       "      <td>11.4</td>\n",
       "      <td>2.5</td>\n",
       "      <td>1026.0</td>\n",
       "      <td>81.0</td>\n",
       "      <td>16.3</td>\n",
       "      <td>16.7</td>\n",
       "      <td>28.7</td>\n",
       "      <td>0.0</td>\n",
       "      <td>4.681663</td>\n",
       "    </tr>\n",
       "    <tr>\n",
       "      <th>4</th>\n",
       "      <td>5</td>\n",
       "      <td>1</td>\n",
       "      <td>2013</td>\n",
       "      <td>6.2</td>\n",
       "      <td>9.6</td>\n",
       "      <td>2.5</td>\n",
       "      <td>1017.5</td>\n",
       "      <td>91.0</td>\n",
       "      <td>16.3</td>\n",
       "      <td>16.1</td>\n",
       "      <td>25.2</td>\n",
       "      <td>3.3</td>\n",
       "      <td>-4.167753</td>\n",
       "    </tr>\n",
       "  </tbody>\n",
       "</table>\n",
       "</div>"
      ],
      "text/plain": [
       "   Day  Month  Year  Average Temperature  Maximum temperature  \\\n",
       "0    1      1  2013                 -2.8                 -0.9   \n",
       "1    2      1  2013                 -1.2                  5.0   \n",
       "2    3      1  2013                  3.3                  8.2   \n",
       "3    4      1  2013                  6.7                 11.4   \n",
       "4    5      1  2013                  6.2                  9.6   \n",
       "\n",
       "   Minimum temperature  Atmospheric pressure at sea level  \\\n",
       "0                 -4.0                             1021.1   \n",
       "1                 -5.0                             1024.2   \n",
       "2                 -0.2                             1033.7   \n",
       "3                  2.5                             1026.0   \n",
       "4                  2.5                             1017.5   \n",
       "\n",
       "   Average relative humidity  Average visibility  Average wind speed  \\\n",
       "0                       98.0                 0.5                 5.0   \n",
       "1                       95.0                 2.6                 3.1   \n",
       "2                       87.0                 9.2                 6.3   \n",
       "3                       81.0                16.3                16.7   \n",
       "4                       91.0                16.3                16.1   \n",
       "\n",
       "   Maximum sustained wind speed  Total rainfall and / or snowmelt    Output  \n",
       "0                          10.7                               0.0  0.236121  \n",
       "1                           7.2                               0.0  1.675782  \n",
       "2                          10.7                               0.0 -4.666976  \n",
       "3                          28.7                               0.0  4.681663  \n",
       "4                          25.2                               3.3 -4.167753  "
      ]
     },
     "execution_count": 6,
     "metadata": {},
     "output_type": "execute_result"
    }
   ],
   "source": [
    "data.head()"
   ]
  },
  {
   "cell_type": "code",
   "execution_count": 7,
   "metadata": {},
   "outputs": [
    {
     "name": "stdout",
     "output_type": "stream",
     "text": [
      "Number of rows with nan values: 16\n"
     ]
    }
   ],
   "source": [
    "att_names.remove('Output')\n",
    "nan_rows = []\n",
    "j=0\n",
    "for i in range(len(data)):\n",
    "    if pd.isnull(data[att_names].values[i]).any():\n",
    "        nan_rows.append(i)\n",
    "        j=j+1\n",
    "print(\"Number of rows with nan values:\", j)"
   ]
  },
  {
   "cell_type": "code",
   "execution_count": 8,
   "metadata": {},
   "outputs": [
    {
     "name": "stdout",
     "output_type": "stream",
     "text": [
      "[76, 83, 270, 343, 347, 435, 558, 729, 774, 972, 973, 975, 1070, 1084, 1091, 1094]\n"
     ]
    }
   ],
   "source": [
    "print(nan_rows)"
   ]
  },
  {
   "cell_type": "code",
   "execution_count": 9,
   "metadata": {},
   "outputs": [
    {
     "name": "stdout",
     "output_type": "stream",
     "text": [
      "Number of rows with nan values in Output: 31\n"
     ]
    }
   ],
   "source": [
    "nan_out = []\n",
    "j=0\n",
    "for i in range(len(data)):\n",
    "    if pd.isnull(data['Output'][i]):\n",
    "        nan_out.append(i)\n",
    "        j=j+1\n",
    "print(\"Number of rows with nan values in Output:\", j)"
   ]
  },
  {
   "cell_type": "code",
   "execution_count": 10,
   "metadata": {},
   "outputs": [
    {
     "name": "stdout",
     "output_type": "stream",
     "text": [
      "[10, 11, 12, 13, 14, 15, 16, 159, 160, 161, 258, 259, 260, 261, 262, 470, 471, 472, 473, 474, 722, 723, 724, 725, 726, 923, 924, 925, 1084, 1085, 1086]\n"
     ]
    }
   ],
   "source": [
    "print(nan_out)"
   ]
  },
  {
   "cell_type": "code",
   "execution_count": 11,
   "metadata": {},
   "outputs": [],
   "source": [
    "data['Output']=data['Output'].interpolate(method='index')\n",
    "for i in att_names:\n",
    "    data[i]=data[i].interpolate(method='index')"
   ]
  },
  {
   "cell_type": "code",
   "execution_count": 12,
   "metadata": {},
   "outputs": [
    {
     "data": {
      "image/png": "[encoded data removed]",
      "text/plain": [
       "<Figure size 576x360 with 1 Axes>"
      ]
     },
     "metadata": {
      "needs_background": "light"
     },
     "output_type": "display_data"
    }
   ],
   "source": [
    "plt.figure(figsize=(8,5))\n",
    "for i in range(len(data)):\n",
    "    plt.scatter(i, data['Output'][i],c='c')\n",
    "plt.title('Values of Output after interpolating ')\n",
    "plt.savefig(\"output.png\", dpi=100)\n",
    "plt.show()"
   ]
  },
  {
   "cell_type": "code",
   "execution_count": 13,
   "metadata": {},
   "outputs": [
    {
     "data": {
      "image/png": "[encoded data removed]",
      "text/plain": [
       "<Figure size 432x288 with 2 Axes>"
      ]
     },
     "metadata": {
      "needs_background": "light"
     },
     "output_type": "display_data"
    }
   ],
   "source": [
    "corrmat = data.corr()\n",
    "sns.heatmap(corrmat, square=True)\n",
    "plt.savefig('corrmat.png',dpi = 1000)\n",
    "plt.show()"
   ]
  },
  {
   "cell_type": "code",
   "execution_count": 14,
   "metadata": {},
   "outputs": [],
   "source": [
    "X = data.drop('Output', axis = 1)\n",
    "y = np.array(data['Output'])\n",
    "X_att = list(X.columns)\n",
    "X = np.array(X)\n",
    "X_train, X_test, y_train, y_test = train_test_split(X, y, test_size=0.2)"
   ]
  },
  {
   "cell_type": "code",
   "execution_count": 15,
   "metadata": {},
   "outputs": [
    {
     "name": "stdout",
     "output_type": "stream",
     "text": [
      "Training Features Shape: (876, 12)\n",
      "Training Labels Shape: (876,)\n",
      "Testing Features Shape: (219, 12)\n",
      "Testing Labels Shape: (219,)\n"
     ]
    }
   ],
   "source": [
    "print('Training Features Shape:', X_train.shape)\n",
    "print('Training Labels Shape:', y_train.shape)\n",
    "print('Testing Features Shape:', X_test.shape)\n",
    "print('Testing Labels Shape:', y_test.shape)"
   ]
  },
  {
   "cell_type": "code",
   "execution_count": 16,
   "metadata": {},
   "outputs": [
    {
     "data": {
      "text/plain": [
       "RandomForestRegressor(bootstrap=True, criterion='mse', max_depth=None,\n",
       "           max_features='auto', max_leaf_nodes=None,\n",
       "           min_impurity_decrease=0.0, min_impurity_split=None,\n",
       "           min_samples_leaf=5, min_samples_split=2,\n",
       "           min_weight_fraction_leaf=0.0, n_estimators=50, n_jobs=None,\n",
       "           oob_score=False, random_state=None, verbose=0, warm_start=False)"
      ]
     },
     "execution_count": 16,
     "metadata": {},
     "output_type": "execute_result"
    }
   ],
   "source": [
    "rf = RandomForestRegressor(bootstrap=True,n_estimators = 50,min_samples_leaf=5)\n",
    "rf.fit(X_train, y_train)"
   ]
  },
  {
   "cell_type": "code",
   "execution_count": 17,
   "metadata": {},
   "outputs": [
    {
     "name": "stdout",
     "output_type": "stream",
     "text": [
      "Mean Absolute Error: 4.7540494667135835\n",
      "Mean Squared Error: 50.686104859009745\n",
      "Root Mean Squared Error: 7.11941745222246\n"
     ]
    }
   ],
   "source": [
    "y_pred = rf.predict(X_test)\n",
    "print('Mean Absolute Error:', metrics.mean_absolute_error(y_test, y_pred))  \n",
    "print('Mean Squared Error:', metrics.mean_squared_error(y_test, y_pred))  \n",
    "print('Root Mean Squared Error:', np.sqrt(metrics.mean_squared_error(y_test, y_pred)))"
   ]
  },
  {
   "cell_type": "code",
   "execution_count": 18,
   "metadata": {},
   "outputs": [
    {
     "data": {
      "text/plain": [
       "Month                                0.568595\n",
       "Minimum temperature                  0.224399\n",
       "Average Temperature                  0.124623\n",
       "Day                                  0.050091\n",
       "Maximum temperature                  0.010006\n",
       "Atmospheric pressure at sea level    0.009795\n",
       "Average relative humidity            0.004366\n",
       "Average wind speed                   0.003253\n",
       "Total rainfall and / or snowmelt     0.001497\n",
       "Year                                 0.001407\n",
       "Average visibility                   0.001173\n",
       "Maximum sustained wind speed         0.000795\n",
       "dtype: float64"
      ]
     },
     "execution_count": 18,
     "metadata": {},
     "output_type": "execute_result"
    }
   ],
   "source": [
    "feature_imp = pd.Series(rf.feature_importances_,index=X_att).sort_values(ascending=False)\n",
    "feature_imp"
   ]
  },
  {
   "cell_type": "code",
   "execution_count": 19,
   "metadata": {},
   "outputs": [
    {
     "name": "stderr",
     "output_type": "stream",
     "text": [
      "No handles with labels found to put in legend.\n"
     ]
    },
    {
     "data": {
      "image/png": "[encoded data removed]",
      "text/plain": [
       "<Figure size 432x288 with 1 Axes>"
      ]
     },
     "metadata": {
      "needs_background": "light"
     },
     "output_type": "display_data"
    }
   ],
   "source": [
    "sns.barplot(x=feature_imp, y=feature_imp.index)\n",
    "plt.xlabel('Feature Importance Score')\n",
    "plt.ylabel('Features')\n",
    "plt.title(\"Visualizing Important Features\")\n",
    "plt.legend()\n",
    "plt.savefig(\"importance.png\", dpi=100)\n",
    "plt.show()"
   ]
  },
  {
   "cell_type": "code",
   "execution_count": 20,
   "metadata": {},
   "outputs": [
    {
     "data": {
      "text/plain": [
       "Day                                    15.720548\n",
       "Month                                   6.526027\n",
       "Year                                 2014.000000\n",
       "Average Temperature                    12.752192\n",
       "Maximum temperature                    18.105890\n",
       "Minimum temperature                     7.873333\n",
       "Atmospheric pressure at sea level    1017.067032\n",
       "Average relative humidity              76.130137\n",
       "Average visibility                     15.382146\n",
       "Average wind speed                      8.960000\n",
       "Maximum sustained wind speed           14.322557\n",
       "Total rainfall and / or snowmelt        2.028151\n",
       "Output                                 13.654532\n",
       "dtype: float64"
      ]
     },
     "execution_count": 20,
     "metadata": {},
     "output_type": "execute_result"
    }
   ],
   "source": [
    "mean_data = np.mean(data)\n",
    "mean_data"
   ]
  },
  {
   "cell_type": "code",
   "execution_count": 21,
   "metadata": {},
   "outputs": [],
   "source": [
    "def bootstraping(data, n_rows, n_columns):\n",
    "    data = data.reindex(np.random.permutation(data.index))\n",
    "    permutovano = np.array(data)\n",
    "    features = random.sample(range(data.shape[1]-1), n_columns)\n",
    "    features.append(12)\n",
    "    features = sorted(features)\n",
    "    X = permutovano[:n_rows,features]\n",
    "    Y = permutovano[:n_rows,-1]\n",
    "    X = pd.DataFrame(X, columns=list(data.columns[features]))\n",
    "    Y = pd.DataFrame(Y)\n",
    "    features = list(data.columns[features])\n",
    " \n",
    "    return X, Y, features"
   ]
  },
  {
   "cell_type": "code",
   "execution_count": 22,
   "metadata": {
    "scrolled": true
   },
   "outputs": [],
   "source": [
    "x,y,features=bootstraping(data,500, 3)"
   ]
  },
  {
   "cell_type": "code",
   "execution_count": 23,
   "metadata": {},
   "outputs": [],
   "source": [
    "def find_best_score_kol(x,y):\n",
    "    scores = []\n",
    "    x=np.array(x)\n",
    "    y=np.array(y)\n",
    "    for i in range(len(x)):\n",
    "        val = x[i]\n",
    "        lhs = []\n",
    "        rhs = []\n",
    "        for j in range(len(y)):\n",
    "            if x[j]>= val:\n",
    "                lhs.append(y[j])\n",
    "            else:\n",
    "                rhs.append(y[j])\n",
    "        lhs = np.array(lhs)\n",
    "        rhs = np.array(rhs)\n",
    "        if len(lhs) ==0:\n",
    "            score_i =  (np.sum((rhs-np.mean(rhs))**2))/len(rhs)\n",
    "        elif len(rhs) ==0:\n",
    "            score_i = (np.sum((lhs-np.mean(lhs))**2))/len(lhs)\n",
    "        else:\n",
    "            score_i = ( np.sum((lhs-np.mean(lhs))**2))/len(lhs) +  ((np.sum((rhs-np.mean(rhs))**2)))/len(rhs)\n",
    "        scores.append(score_i)\n",
    "        score_arr = np.array(scores)\n",
    "    return min(scores), np.argmin(score_arr)"
   ]
  },
  {
   "cell_type": "code",
   "execution_count": 24,
   "metadata": {},
   "outputs": [],
   "source": [
    "def best_score(x,y):\n",
    "    x=np.array(x)\n",
    "    y=np.array(y)\n",
    "    d = {}\n",
    "    for i in range(x.shape[1]-1):\n",
    "        z = x[:,i]\n",
    "        d[find_best_score_kol(z,y)[0]] = (find_best_score_kol(z,y)[1], i)\n",
    "    p = np.array(list(d.keys()))\n",
    "    q = np.argmin(p)\n",
    "    return list(d.values())[q]"
   ]
  },
  {
   "cell_type": "code",
   "execution_count": 25,
   "metadata": {},
   "outputs": [],
   "source": [
    "def CART_score(data, originaldata, features, min_leaf,depth, f_name):\n",
    "    \n",
    "    #for i in range(depth):\n",
    "        if len(data) <= int(min_leaf):\n",
    "            return np.mean(data[f_name])\n",
    "\n",
    "        elif (len(data)==0):\n",
    "            return np.mean(originaldata[f_name])\n",
    "\n",
    "        elif (depth<=0):\n",
    "            return np.mean(data[f_name])\n",
    "\n",
    "        else:\n",
    "            #parent_mean = np.mean(data[f_name])\n",
    "\n",
    "            value = data.iloc[best_score(data, data[f_name])[0],best_score(data,data[f_name])[1]]\n",
    "\n",
    "            root_feature = features[best_score(data,data[f_name])[1]]    \n",
    "\n",
    "            tree = {root_feature:{}}\n",
    "\n",
    "            sub_data1 = data.where(data[root_feature] <= value).dropna()\n",
    "\n",
    "            depth = depth-1\n",
    "\n",
    "            if not sub_data1.empty:\n",
    "                subtree1 = CART_score(sub_data1, originaldata, features, min_leaf,depth, 'Output')\n",
    "                tree[root_feature][0] = subtree1\n",
    "\n",
    "            sub_data2 = data.where(data[root_feature] > value).dropna()\n",
    "\n",
    "            if not sub_data2.empty:\n",
    "\n",
    "                subtree2 = CART_score(sub_data2,originaldata,features,min_leaf,depth, 'Output')\n",
    "                tree[root_feature][1] = subtree2\n",
    "            \n",
    "        return tree   "
   ]
  },
  {
   "cell_type": "code",
   "execution_count": 27,
   "metadata": {},
   "outputs": [],
   "source": [
    "tree = CART_score(x,x,features,150,10,'Output')"
   ]
  },
  {
   "cell_type": "code",
   "execution_count": 28,
   "metadata": {},
   "outputs": [
    {
     "name": "stdout",
     "output_type": "stream",
     "text": [
      "{'Minimum temperature': {0: {'Minimum temperature': {0: 0.4346814297885695,\n",
      "                                                     1: 0.40088285965072895}},\n",
      "                         1: {'Total rainfall and / or snowmelt': {0: {'Minimum temperature': {0: 13.970083733355871,\n",
      "                                                                                              1: 34.449192537871085}},\n",
      "                                                                  1: {'Minimum temperature': {0: 16.36724666128077,\n",
      "                                                                                              1: 34.28930082146664}}}}}}\n"
     ]
    }
   ],
   "source": [
    "pprint(tree)"
   ]
  },
  {
   "cell_type": "code",
   "execution_count": 26,
   "metadata": {},
   "outputs": [],
   "source": [
    "# def CART_score(data, originaldata, features, min_leaf,depth, f_name):\n",
    "    \n",
    "#     if len(data) <= int(min_leaf):\n",
    "#         return np.mean(data[f_name])\n",
    "    \n",
    "#     elif (len(data)==0):\n",
    "#         return np.mean(originaldata[f_name])\n",
    "    \n",
    "#     elif (depth<=0):\n",
    "#         return np.mean(data[f_name])\n",
    "    \n",
    "#     else:\n",
    "        \n",
    "#         features_tree = np.array(features)[:-1]\n",
    "            \n",
    "#         root_feature = np.random.choice(features_tree, 1)[0]\n",
    "        \n",
    "#         value = np.median(data[root_feature])\n",
    "  \n",
    "#         tree = {root_feature:{}}\n",
    "        \n",
    "        \n",
    "#         sub_data1 = data.where(data[root_feature] <= value).dropna()\n",
    "#         subtree1 = CART_score(sub_data1, originaldata, features, min_leaf, depth, f_name)\n",
    "#         tree[root_feature][0] = subtree1\n",
    "        \n",
    "#         sub_data2 = data.where(data[root_feature] >= value).dropna()\n",
    "#         subtree2 = CART_score(sub_data2, originaldata, features, min_leaf, depth, f_name)\n",
    "#         tree[root_feature][1] = subtree2\n",
    "            \n",
    "#         return tree   "
   ]
  },
  {
   "cell_type": "code",
   "execution_count": 29,
   "metadata": {
    "scrolled": true
   },
   "outputs": [],
   "source": [
    "def predict(query,tree,default = mean_data):\n",
    "    for key in list(query.keys()):\n",
    "        if key in list(tree.keys()):\n",
    "            #value = data.iloc[best_score(data, data['Output'])[0],best_score(data,data['Output'])[1]]\n",
    "\n",
    "            if (query[key]<=np.median(data[key])):\n",
    "                result = tree[key][0]\n",
    "            else:\n",
    "                result = tree[key][1]\n",
    "            if isinstance(result,dict):\n",
    "                return predict(query,result)\n",
    "            else:\n",
    "                return result "
   ]
  },
  {
   "cell_type": "code",
   "execution_count": 30,
   "metadata": {},
   "outputs": [],
   "source": [
    "def train_test_split(dataset):\n",
    "    training_data = dataset.iloc[:int(0.75*len(dataset))].reset_index(drop=True)\n",
    "    testing_data = dataset.iloc[int(0.75*len(dataset)):].reset_index(drop=True)\n",
    "    return training_data,testing_data"
   ]
  },
  {
   "cell_type": "code",
   "execution_count": 31,
   "metadata": {},
   "outputs": [],
   "source": [
    "data = data.sample(frac=1,replace=True)"
   ]
  },
  {
   "cell_type": "code",
   "execution_count": 32,
   "metadata": {},
   "outputs": [],
   "source": [
    "training_data = train_test_split(data)[0]\n",
    "testing_data = train_test_split(data)[1] "
   ]
  },
  {
   "cell_type": "code",
   "execution_count": 33,
   "metadata": {},
   "outputs": [],
   "source": [
    "def MSE(data,tree):\n",
    "    queries = data.iloc[:,:-1].to_dict(orient = \"records\")\n",
    "    predicted = []\n",
    "    for i in range(len(data)):\n",
    "        predicted.append(predict(queries[i],tree,mean_data))\n",
    "    MSE_tree = np.sum(((data.iloc[:,-1]-predicted)**2)/len(data))\n",
    "    return MSE_tree"
   ]
  },
  {
   "cell_type": "code",
   "execution_count": 34,
   "metadata": {},
   "outputs": [],
   "source": [
    "def MSA(data, tree):\n",
    "    queries = data.iloc[:,:-1].to_dict(orient = \"records\")\n",
    "    predicted = []\n",
    "    for i in range(len(data)):\n",
    "        predicted.append(predict(queries[i],tree,mean_data))\n",
    "    MAE_tree = np.sum((abs(data.iloc[:,-1]-predicted))/len(data))\n",
    "    return MAE_tree"
   ]
  },
  {
   "cell_type": "code",
   "execution_count": 35,
   "metadata": {},
   "outputs": [
    {
     "name": "stdout",
     "output_type": "stream",
     "text": [
      "Mean square error (MSE):  570.5627793954748 Mean absolute error (MAE):  15.421773544290073\n"
     ]
    }
   ],
   "source": [
    "tree = CART_score(training_data,training_data,training_data.columns,50,10,'Output')\n",
    "print('Mean square error (MSE): ',MSE(testing_data,tree), 'Mean absolute error (MAE): ', MSA(testing_data,tree))"
   ]
  },
  {
   "cell_type": "code",
   "execution_count": null,
   "metadata": {},
   "outputs": [],
   "source": [
    "fig = plt.figure()\n",
    "ax0 = fig.add_subplot(111) \n",
    "MSE_test = []\n",
    "for i in range(1,100):\n",
    "    tree = CART_score(training_data,training_data,training_data.columns.drop('Output'),i,10,'Output')\n",
    "    MSE_test.append(MSE(testing_data,tree)) \n",
    "min_ins = np.argmin(MSE_test)\n",
    "ax0.plot(range(1,100),MSE_test,label='Test_Data')\n",
    "ax0.legend()\n",
    "ax0.set_title('MSE with respect to the minumim number of leaves per node')\n",
    "ax0.set_xlabel('Number of minimum leaves')\n",
    "ax0.set_ylabel('MSE')\n",
    "plt.savefig(\"MSE.png\", dpi=100)\n",
    "plt.show()"
   ]
  },
  {
   "cell_type": "code",
   "execution_count": null,
   "metadata": {},
   "outputs": [],
   "source": [
    "fig = plt.figure()\n",
    "ax0 = fig.add_subplot(111) \n",
    "MSA_test = []\n",
    "for i in range(1,100):\n",
    "    tree = CART_score(training_data,training_data,training_data.columns.drop('Output'),i,'Output')\n",
    "    MSA_test.append(MSA(testing_data,tree)) \n",
    "min_ins = np.argmin(MSA_test)\n",
    "ax0.plot(range(1,100),MSA_test,label='Test_Data')\n",
    "ax0.legend()\n",
    "ax0.set_title('MSA with respect to the minumim number of leaves per node')\n",
    "ax0.set_xlabel('Number of minimum leaves')\n",
    "ax0.set_ylabel('MSA')\n",
    "plt.savefig(\"MSA.png\", dpi=100)\n",
    "plt.show()"
   ]
  },
  {
   "cell_type": "code",
   "execution_count": 36,
   "metadata": {},
   "outputs": [],
   "source": [
    "def RandomForest_Train(dataset,number_of_Trees):\n",
    "    \n",
    "    random_forest_sub_tree = []\n",
    "    br_features = int(np.sqrt(dataset.shape[1]-1))\n",
    "    \n",
    "    for i in range(number_of_Trees):\n",
    "        \n",
    "        bootstrap_training_data,y,features = bootstraping(dataset,500,br_features)\n",
    "        \n",
    "        random_forest_sub_tree.append(CART_score(bootstrap_training_data,bootstrap_training_data,features,50,10,'Output'))\n",
    "        \n",
    "    return random_forest_sub_tree"
   ]
  },
  {
   "cell_type": "code",
   "execution_count": 37,
   "metadata": {},
   "outputs": [
    {
     "data": {
      "text/plain": [
       "[{'Maximum temperature': {0: {'Maximum temperature': {0: {'Maximum temperature': {0: {'Average Temperature': {0: -1.028706201222135,\n",
       "         1: 0.6054174131583412}},\n",
       "       1: {'Maximum temperature': {0: -0.4296883032522033,\n",
       "         1: 0.10580759957899587}}}},\n",
       "     1: {'Average Temperature': {0: {'Atmospheric pressure at sea level': {0: -1.4180413129918918,\n",
       "         1: -0.05309934859236755}},\n",
       "       1: {'Atmospheric pressure at sea level': {0: 3.675335253757433,\n",
       "         1: 3.1227433652064094}}}}}},\n",
       "   1: {'Maximum temperature': {0: {'Maximum temperature': {0: {'Maximum temperature': {0: 9.691522174773013,\n",
       "         1: 15.00652814815718}},\n",
       "       1: {'Average Temperature': {0: 18.866408589717977,\n",
       "         1: 32.71962139192825}}}},\n",
       "     1: {'Average Temperature': {0: {'Maximum temperature': {0: 14.762936570186305,\n",
       "         1: 31.13272022471324}},\n",
       "       1: {'Atmospheric pressure at sea level': {0: 34.22102466910952,\n",
       "         1: 56.513239199482555}}}}}}}},\n",
       " {'Minimum temperature': {0: {'Average Temperature': {0: {'Minimum temperature': {0: {'Average Temperature': {0: -1.2744180346904492,\n",
       "         1: 0.28785585033088124}},\n",
       "       1: {'Average relative humidity': {0: -1.0993818571198435,\n",
       "         1: 0.06521542082112643}}}},\n",
       "     1: {'Average Temperature': {0: {'Average Temperature': {0: 0.36823678954982764,\n",
       "         1: -0.06150882727192056}},\n",
       "       1: {'Minimum temperature': {0: -0.15680096802088642,\n",
       "         1: 1.5752894431712468}}}}}},\n",
       "   1: {'Minimum temperature': {0: {'Average Temperature': {0: {'Average relative humidity': {0: 7.643721591135269,\n",
       "         1: 7.6846526669738}},\n",
       "       1: {'Average Temperature': {0: 15.781431208210087,\n",
       "         1: 25.203996950207237}}}},\n",
       "     1: {'Average relative humidity': {0: {'Average relative humidity': {0: 29.45317885631677,\n",
       "         1: 47.22701788159236}},\n",
       "       1: {'Minimum temperature': {0: 34.36601855736392,\n",
       "         1: 33.49056422441274}}}}}}}}]"
      ]
     },
     "execution_count": 37,
     "metadata": {},
     "output_type": "execute_result"
    }
   ],
   "source": [
    "random_forest = RandomForest_Train(training_data,2)\n",
    "random_forest"
   ]
  },
  {
   "cell_type": "code",
   "execution_count": 38,
   "metadata": {},
   "outputs": [],
   "source": [
    "def RandomForest_Predict(query,random_forest,default='p'):\n",
    "    predictions = []\n",
    "    for tree in random_forest:\n",
    "        predictions.append(predict(query,tree,default='p'))\n",
    "    pred = np.mean(predictions)\n",
    "    return pred"
   ]
  },
  {
   "cell_type": "code",
   "execution_count": 39,
   "metadata": {},
   "outputs": [
    {
     "name": "stdout",
     "output_type": "stream",
     "text": [
      "target:  19.8\n",
      "prediction:  31.837101762713147\n"
     ]
    }
   ],
   "source": [
    "query = testing_data.iloc[70,:].drop('Output').to_dict()\n",
    "\n",
    "query_target = testing_data.iloc[70,5]\n",
    "print('target: ',query_target)\n",
    "\n",
    "prediction = RandomForest_Predict(query,random_forest)\n",
    "print('prediction: ',prediction)"
   ]
  },
  {
   "cell_type": "code",
   "execution_count": 40,
   "metadata": {},
   "outputs": [],
   "source": [
    "def RandomForest_Test(data,random_forest,default='p'):\n",
    "    predictions = []\n",
    "    for i in range(len(data)):\n",
    "        query = data.iloc[i,:-1]\n",
    "        p = RandomForest_Predict(query,random_forest,default='p')\n",
    "        predictions.append(p)\n",
    "    return predictions"
   ]
  },
  {
   "cell_type": "code",
   "execution_count": null,
   "metadata": {},
   "outputs": [],
   "source": [
    "accuracy_mse = []\n",
    "accuracy_msa = []\n",
    "for i in range(1,11,1):\n",
    "    random_forest = RandomForest_Train(testing_data,i)\n",
    "    MSE = np.sum(((testing_data.iloc[:,-1]-RandomForest_Test(testing_data,random_forest,default='p'))**2)/len(testing_data.iloc[:,-1]))\n",
    "    MSA = np.sum((abs(testing_data.iloc[:,-1]-RandomForest_Test(testing_data,random_forest,default='p')))/len(testing_data.iloc[:,-1]))\n",
    "    accuracy_mse.append(MSE)\n",
    "    accuracy_msa.append(MSA)\n",
    "for i in range(10,110,10):\n",
    "    random_forest = RandomForest_Train(testing_data,i)\n",
    "    MSE = np.sum(((testing_data.iloc[:,-1]-RandomForest_Test(testing_data,random_forest,default='p'))**2)/len(testing_data.iloc[:,-1]))\n",
    "    MSA = np.sum((abs(testing_data.iloc[:,-1]-RandomForest_Test(testing_data,random_forest,default='p')))/len(testing_data.iloc[:,-1]))\n",
    "    accuracy_mse.append(MSE)\n",
    "    accuracy_msa.append(MSA)\n",
    "print(accuracy_mse, accuracy_msa)"
   ]
  },
  {
   "cell_type": "code",
   "execution_count": null,
   "metadata": {},
   "outputs": [],
   "source": [
    "style.use('fivethirtyeight')\n",
    "fig = plt.figure(figsize=(10,5))\n",
    "ax0 = fig.add_subplot(211)\n",
    "ax0.plot(np.logspace(0,2,20),accuracy_mse)\n",
    "ax0.set_yticks(np.linspace(350,800,20))\n",
    "ax0.set_title(\"Accuracy mse with respect to the numer of trees in the random forest\")\n",
    "ax0.set_xlabel(\"Number of Trees\")\n",
    "ax0.set_ylabel('Accuracy mse')\n",
    "\n",
    "ax1 = fig.add_subplot(212)\n",
    "ax1.plot(np.logspace(0,2,20),accuracy_msa)\n",
    "ax1.set_yticks(np.linspace(350,800,20))\n",
    "ax1.set_title(\"Accuracy msa with respect to the numer of trees in the random forest\")\n",
    "ax1.set_xlabel(\"Number of Trees\")\n",
    "ax1.set_ylabel('Accuracy msa')\n",
    "plt.savefig(\"accuracy.png\", dpi=100)\n",
    "plt.show()"
   ]
  },
  {
   "cell_type": "code",
   "execution_count": 1,
   "metadata": {},
   "outputs": [],
   "source": [
    "def krosvalidacija(data):\n",
    "    greska = 0\n",
    "    godine = [2013,2014,2015]\n",
    "    for i in godine:\n",
    "        data_test = data[data['Year']== godine[i]]\n",
    "        data_train = data[data['Year'] != godine [i]]\n",
    "        output = list(data[data['Year']== godine[i]]['Output'])\n",
    "        rendomf_train = RandomForest_Train(data_train,5)\n",
    "        rendomf_test_predikcija = RandomForest_Test(data_test, randomf_train ,default='p')\n",
    "        MSE = sum((rendomf_test_predikcija - output)**2)/len(output)\n",
    "        greska = greska + MSE\n",
    "        \n",
    "    return greska/3"
   ]
  },
  {
   "cell_type": "code",
   "execution_count": null,
   "metadata": {},
   "outputs": [],
   "source": []
  }
 ],
 "metadata": {
  "kernelspec": {
   "display_name": "Python 3",
   "language": "python",
   "name": "python3"
  },
  "language_info": {
   "codemirror_mode": {
    "name": "ipython",
    "version": 3
   },
   "file_extension": ".py",
   "mimetype": "text/x-python",
   "name": "python",
   "nbconvert_exporter": "python",
   "pygments_lexer": "ipython3",
   "version": "3.7.1"
  }
 },
 "nbformat": 4,
 "nbformat_minor": 2
}
