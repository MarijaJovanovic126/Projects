{
 "cells": [
  {
   "cell_type": "code",
   "execution_count": 1,
   "metadata": {},
   "outputs": [],
   "source": [
    "def intersection(lst1, lst2): \n",
    "    lst3 = [value for value in lst1 if value in lst2] \n",
    "    return lst3 \n",
    "  "
   ]
  },
  {
   "cell_type": "code",
   "execution_count": 2,
   "metadata": {},
   "outputs": [],
   "source": [
    "def sp(lista):\n",
    "    i = 1   \n",
    "    d = {}\n",
    "    s1 = []\n",
    "    s2=[]\n",
    "    s3=[]\n",
    "    s1 = lista \n",
    "    d[i] = s1\n",
    "    i = 2\n",
    "    if len(s1)!=0:  \n",
    "        for x in s1:\n",
    "            for p in s1:\n",
    "                if x != p:\n",
    "                    if p.startswith(x):\n",
    "                        \n",
    "                        s2.append(p.replace(x, '', 1) )\n",
    "        d[i] = s2\n",
    "    if len(s2)==0:\n",
    "        print('The code is uniquely decodable')\n",
    "        \n",
    "    while len(s2)!=0 :\n",
    "        i += 1\n",
    "        \n",
    "        for z in s2:\n",
    "            for p in s1:\n",
    "                if z != p:\n",
    "                    if p.startswith(z):\n",
    "                        s3.append(p.replace(z,'',1))\n",
    "                    if z.startswith(p):\n",
    "                        s3.append(z.replace(p,'',1))\n",
    "                     \n",
    "        d[i] = s3\n",
    "        if len(intersection(s1,s3))!=0:\n",
    "            print('The code is not uniquely decodable')\n",
    "            \n",
    "            break\n",
    "        if set(s2) == set(s3):\n",
    "            print('The code is not uniquely decodable')\n",
    "            \n",
    "            break\n",
    "        elif len(s3) == 0:\n",
    "            print('The code is uniquely decodable')\n",
    "            break\n",
    "        else:\n",
    "            s2 = s3\n",
    "            s3 = []\n",
    "        \n",
    "    return (d)"
   ]
  },
  {
   "cell_type": "code",
   "execution_count": 3,
   "metadata": {},
   "outputs": [],
   "source": [
    "lista = ['010','0001','0110','1100','00011','00110','11110','101011']"
   ]
  },
  {
   "cell_type": "code",
   "execution_count": 4,
   "metadata": {
    "scrolled": true
   },
   "outputs": [
    {
     "name": "stdout",
     "output_type": "stream",
     "text": [
      "The code is not uniquely decodable\n"
     ]
    },
    {
     "data": {
      "text/plain": [
       "{1: ['010', '0001', '0110', '1100', '00011', '00110', '11110', '101011'],\n",
       " 2: ['1'],\n",
       " 3: ['100', '1110', '01011'],\n",
       " 4: ['11'],\n",
       " 5: ['00', '110'],\n",
       " 6: ['01', '011', '110', '0'],\n",
       " 7: ['0', '10', '0', '0', '10', '001', '110', '0011', '0110']}"
      ]
     },
     "execution_count": 4,
     "metadata": {},
     "output_type": "execute_result"
    }
   ],
   "source": [
    "sp(lista)"
   ]
  },
  {
   "cell_type": "code",
   "execution_count": 5,
   "metadata": {},
   "outputs": [],
   "source": [
    "lista = ['0','010','110','111']"
   ]
  },
  {
   "cell_type": "code",
   "execution_count": 6,
   "metadata": {},
   "outputs": [
    {
     "name": "stdout",
     "output_type": "stream",
     "text": [
      "The code is uniquely decodable\n"
     ]
    },
    {
     "data": {
      "text/plain": [
       "{1: ['0', '010', '110', '111'], 2: ['10'], 3: []}"
      ]
     },
     "execution_count": 6,
     "metadata": {},
     "output_type": "execute_result"
    }
   ],
   "source": [
    "sp(lista)"
   ]
  },
  {
   "cell_type": "code",
   "execution_count": 7,
   "metadata": {},
   "outputs": [],
   "source": [
    "l = ['00', '01', '001','101','0110']"
   ]
  },
  {
   "cell_type": "code",
   "execution_count": 8,
   "metadata": {},
   "outputs": [
    {
     "name": "stdout",
     "output_type": "stream",
     "text": [
      "The code is not uniquely decodable\n"
     ]
    },
    {
     "data": {
      "text/plain": [
       "{1: ['00', '01', '001', '101', '0110'], 2: ['1', '10'], 3: ['01', '1']}"
      ]
     },
     "execution_count": 8,
     "metadata": {},
     "output_type": "execute_result"
    }
   ],
   "source": [
    "sp(l)"
   ]
  },
  {
   "cell_type": "code",
   "execution_count": 9,
   "metadata": {},
   "outputs": [],
   "source": [
    "l = ['10','01','100','011']"
   ]
  },
  {
   "cell_type": "code",
   "execution_count": 10,
   "metadata": {},
   "outputs": [
    {
     "name": "stdout",
     "output_type": "stream",
     "text": [
      "The code is not uniquely decodable\n"
     ]
    },
    {
     "data": {
      "text/plain": [
       "{1: ['10', '01', '100', '011'],\n",
       " 2: ['0', '1'],\n",
       " 3: ['1', '11', '0', '00'],\n",
       " 4: ['0', '00', '1', '11']}"
      ]
     },
     "execution_count": 10,
     "metadata": {},
     "output_type": "execute_result"
    }
   ],
   "source": [
    "sp(l)"
   ]
  },
  {
   "cell_type": "code",
   "execution_count": 11,
   "metadata": {},
   "outputs": [],
   "source": [
    "lista = ['1','2','00','01','020','021','022']"
   ]
  },
  {
   "cell_type": "code",
   "execution_count": 12,
   "metadata": {},
   "outputs": [
    {
     "name": "stdout",
     "output_type": "stream",
     "text": [
      "The code is uniquely decodable\n"
     ]
    },
    {
     "data": {
      "text/plain": [
       "{1: ['1', '2', '00', '01', '020', '021', '022'], 2: []}"
      ]
     },
     "execution_count": 12,
     "metadata": {},
     "output_type": "execute_result"
    }
   ],
   "source": [
    "sp(lista)"
   ]
  },
  {
   "cell_type": "code",
   "execution_count": null,
   "metadata": {},
   "outputs": [],
   "source": []
  },
  {
   "cell_type": "code",
   "execution_count": null,
   "metadata": {},
   "outputs": [],
   "source": []
  }
 ],
 "metadata": {
  "kernelspec": {
   "display_name": "Python 3",
   "language": "python",
   "name": "python3"
  },
  "language_info": {
   "codemirror_mode": {
    "name": "ipython",
    "version": 3
   },
   "file_extension": ".py",
   "mimetype": "text/x-python",
   "name": "python",
   "nbconvert_exporter": "python",
   "pygments_lexer": "ipython3",
   "version": "3.7.1"
  }
 },
 "nbformat": 4,
 "nbformat_minor": 2
}
